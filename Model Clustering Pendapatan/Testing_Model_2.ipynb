{
  "nbformat": 4,
  "nbformat_minor": 0,
  "metadata": {
    "colab": {
      "provenance": []
    },
    "kernelspec": {
      "name": "python3",
      "display_name": "Python 3"
    },
    "language_info": {
      "name": "python"
    }
  },
  "cells": [
    {
      "cell_type": "code",
      "execution_count": 6,
      "metadata": {
        "id": "IVWrsqF0QnZK"
      },
      "outputs": [],
      "source": [
        "import pandas as pd\n",
        "import tensorflow as tf\n",
        "from keras.models import load_model"
      ]
    },
    {
      "cell_type": "code",
      "source": [
        "from google.colab import drive\n",
        "drive.mount('/content/drive', force_remount=True)"
      ],
      "metadata": {
        "colab": {
          "base_uri": "https://localhost:8080/"
        },
        "id": "2YCKBpk4Qrlh",
        "outputId": "c890d254-0a8b-4acc-f1ee-6d1fb9d67b2c"
      },
      "execution_count": 2,
      "outputs": [
        {
          "output_type": "stream",
          "name": "stdout",
          "text": [
            "Mounted at /content/drive\n"
          ]
        }
      ]
    },
    {
      "cell_type": "code",
      "source": [
        "model = load_model('/content/drive/MyDrive/Kmeans.h5')\n",
        "model.summary()"
      ],
      "metadata": {
        "colab": {
          "base_uri": "https://localhost:8080/"
        },
        "id": "aqt-uZ2yQt-Z",
        "outputId": "10ddd60a-5016-4a57-fca6-5d5171dfff53"
      },
      "execution_count": 3,
      "outputs": [
        {
          "output_type": "stream",
          "name": "stdout",
          "text": [
            "Model: \"sequential_11\"\n",
            "_________________________________________________________________\n",
            " Layer (type)                Output Shape              Param #   \n",
            "=================================================================\n",
            " dense_24 (Dense)            (None, 64)                128       \n",
            "                                                                 \n",
            " dense_25 (Dense)            (None, 3)                 195       \n",
            "                                                                 \n",
            "=================================================================\n",
            "Total params: 323\n",
            "Trainable params: 323\n",
            "Non-trainable params: 0\n",
            "_________________________________________________________________\n"
          ]
        }
      ]
    },
    {
      "cell_type": "code",
      "source": [
        "# Load the dataset from CSV file\n",
        "data = pd.read_csv('/content/drive/MyDrive/combined_data.csv')\n",
        "\n",
        "# Preprocess the data\n",
        "nama = data['Nama'].values\n",
        "penghasilan = data['Penghasilan'].values\n",
        "cluster = data['Cluster'].values"
      ],
      "metadata": {
        "id": "dg5Ry69bRWKL"
      },
      "execution_count": 7,
      "outputs": []
    },
    {
      "cell_type": "code",
      "source": [
        "import pandas as pd\n",
        "import numpy as np\n",
        "# Test the model with new data\n",
        "new_data = np.array([7500000])\n",
        "\n",
        "# Normalize penghasilan column\n",
        "data_normalized = (new_data - penghasilan.min()) / (penghasilan.max() - penghasilan.min())\n",
        "\n",
        "# Reshape penghasilan_normalized to match expected input shape\n",
        "data_normalized =data_normalized.reshape(-1, 1)\n",
        "\n",
        "# Predict cluster probabilities for the input data\n",
        "cluster_probs = model.predict(data_normalized)\n",
        "clusters = np.argmax(cluster_probs, axis=1)\n",
        "\n",
        "# Print cluster assignments\n",
        "for i, clustert in enumerate(clusters):\n",
        "    print(f\"Data {i+1} belongs to cluster {clustert+1}\")"
      ],
      "metadata": {
        "colab": {
          "base_uri": "https://localhost:8080/"
        },
        "id": "n1MYuGdVQ6j1",
        "outputId": "787977f1-ca45-45fc-d917-4307a0d5af84"
      },
      "execution_count": 34,
      "outputs": [
        {
          "output_type": "stream",
          "name": "stdout",
          "text": [
            "1/1 [==============================] - 0s 21ms/step\n",
            "Data 1 belongs to cluster 1\n"
          ]
        }
      ]
    },
    {
      "cell_type": "code",
      "source": [
        "print(data_normalized)\n",
        "print(cluster_probs)\n",
        "print(clusters)"
      ],
      "metadata": {
        "colab": {
          "base_uri": "https://localhost:8080/"
        },
        "id": "cT8hEjlcvoky",
        "outputId": "0cbf1db9-6ad9-4f8d-f84c-d36c8cb0a043"
      },
      "execution_count": 31,
      "outputs": [
        {
          "output_type": "stream",
          "name": "stdout",
          "text": [
            "[[0.49901224]]\n",
            "[[1.4431117 1.4487369 1.4428015]]\n",
            "[1]\n"
          ]
        }
      ]
    }
  ]
}